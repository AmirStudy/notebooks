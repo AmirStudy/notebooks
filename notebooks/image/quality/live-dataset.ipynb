{
 "cells": [
  {
   "cell_type": "markdown",
   "source": [
    "### MATLAB mat files\n",
    "The file `dmos.mat` has two arrays of length 982 each: dmos and orgs. `orgs(i)==0` for distorted images.\n",
    "The arrays `dmos` and `orgs` are arranged by concatenating the dmos (and orgs) variables for each database as follows:\n",
    "\n",
    "```dmos=[dmos_jpeg2000(1:227) dmos_jpeg(1:233) white_noise(1:174) gaussian_blur(1:174) fast_fading(1:174)]```\n",
    " \n",
    "where `dmos_distortion(i)` is the dmos value for image `distortion/img_i.bmp` where distortion can be one of the five\n",
    "described above. \n",
    "\n",
    "The values of dmos when corresponding `orgs==1` are zero (they are reference  images). Note that imperceptible\n",
    "loss of quality does not necessarily mean a dmos value of zero due to the   nature of the score processing used.\n",
    "\n",
    "The file refnames_all.mat contains a cell array refnames_all. Entry refnames_all{i} is the name of\n",
    "the reference image for image i whose dmos value is given by dmos(i). If orgs(i)==0, then this is a valid"
   ],
   "metadata": {
    "collapsed": false
   }
  },
  {
   "cell_type": "code",
   "execution_count": 339,
   "outputs": [],
   "source": [
    "import os\n",
    "import re\n",
    "from enum import unique, IntEnum\n",
    "\n",
    "import numpy\n",
    "import pandas\n",
    "from scipy.io import loadmat\n"
   ],
   "metadata": {
    "collapsed": false,
    "pycharm": {
     "name": "#%%\n",
     "is_executing": false
    }
   }
  },
  {
   "cell_type": "code",
   "execution_count": 340,
   "outputs": [],
   "source": [
    "paths = list(os.walk('/home/rocampo/data/live'))\n",
    "files = {\n",
    "    os.path.basename(path): [os.path.join(os.path.basename(path), file) for file in files if '.bmp' in file]\n",
    "    for path, _, files in paths\n",
    "    if len(list(filter(lambda x: '.bmp' in x, files))) > 0\n",
    "}\n"
   ],
   "metadata": {
    "collapsed": false,
    "pycharm": {
     "name": "#%%\n",
     "is_executing": false
    }
   }
  },
  {
   "cell_type": "code",
   "execution_count": 341,
   "outputs": [],
   "source": [
    "refnames = loadmat('/home/rocampo/data/live/refnames_all.mat')\n",
    "dmos = loadmat('/home/rocampo/data/live/dmos.mat')\n"
   ],
   "metadata": {
    "collapsed": false,
    "pycharm": {
     "name": "#%%\n",
     "is_executing": false
    }
   }
  },
  {
   "cell_type": "code",
   "execution_count": 342,
   "outputs": [],
   "source": [
    "refnames = numpy.hstack(refnames['refnames_all'][0])\n",
    "dmos = numpy.hstack(dmos['dmos'])\n"
   ],
   "metadata": {
    "collapsed": false,
    "pycharm": {
     "name": "#%%\n",
     "is_executing": false
    }
   }
  },
  {
   "cell_type": "code",
   "execution_count": 343,
   "outputs": [],
   "source": [
    "def extract_index(file_name):\n",
    "    return int(re.findall(r'\\d+', file_name)[-1])\n",
    "\n",
    "def create_array(file_names):\n",
    "    return {extract_index(file_name): file_name for file_name in file_names}"
   ],
   "metadata": {
    "collapsed": false,
    "pycharm": {
     "name": "#%%\n",
     "is_executing": false
    }
   }
  },
  {
   "cell_type": "code",
   "execution_count": 344,
   "outputs": [],
   "source": [
    "@unique\n",
    "class Distortion(IntEnum):\n",
    "    jpeg_2000 = 1\n",
    "    jpeg = 2\n",
    "    white_noise = 3\n",
    "    gaussian_blur = 4\n",
    "    fast_fading = 5\n",
    "\n",
    "arrays = {\n",
    "    Distortion.jpeg_2000: create_array(files['jp2k']),\n",
    "    Distortion.jpeg: create_array(files['jpeg']),\n",
    "    Distortion.white_noise: create_array(files['wn']),\n",
    "    Distortion.gaussian_blur:  create_array(files['gblur']),\n",
    "    Distortion.fast_fading:  create_array(files['fastfading']),  \n",
    "}"
   ],
   "metadata": {
    "collapsed": false,
    "pycharm": {
     "name": "#%%\n",
     "is_executing": false
    }
   }
  },
  {
   "cell_type": "code",
   "execution_count": 345,
   "outputs": [],
   "source": [
    "dataframes = [\n",
    "    pandas.DataFrame({\n",
    "        'distortion': distortion, \n",
    "        'index': list(paths.keys()),\n",
    "        'distorted_path': list(paths.values())\n",
    "    })\n",
    "    for distortion, paths in arrays.items() \n",
    "]\n",
    "\n",
    "dataframe = pandas.concat(dataframes)"
   ],
   "metadata": {
    "collapsed": false,
    "pycharm": {
     "name": "#%%\n",
     "is_executing": false
    }
   }
  },
  {
   "cell_type": "code",
   "execution_count": 346,
   "outputs": [],
   "source": [
    "dataframe = dataframe.sort_values(by=['distortion', 'index'])"
   ],
   "metadata": {
    "collapsed": false,
    "pycharm": {
     "name": "#%%\n",
     "is_executing": false
    }
   }
  },
  {
   "cell_type": "code",
   "execution_count": 347,
   "outputs": [],
   "source": [
    "dataframe['dmos'] = dmos\n",
    "dataframe['reference_path'] = refnames\n",
    "dataframe.reference_path = 'refimgs/' + dataframe.reference_path\n",
    "dataframe.distortion = dataframe.distortion.apply(lambda x: str(Distortion(x)).replace('Distortion.', ''))\n",
    "dataframe = dataframe[['distortion', 'index', 'reference_path', 'distorted_path', 'dmos']]"
   ],
   "metadata": {
    "collapsed": false,
    "pycharm": {
     "name": "#%%\n",
     "is_executing": false
    }
   }
  },
  {
   "cell_type": "code",
   "execution_count": 348,
   "outputs": [
    {
     "data": {
      "text/plain": "     distortion  index                reference_path         distorted_path  \\\n18    jpeg_2000      1         refimgs/buildings.bmp          jp2k/img1.bmp   \n0     jpeg_2000      2  refimgs/studentsculpture.bmp          jp2k/img2.bmp   \n17    jpeg_2000      3            refimgs/rapids.bmp          jp2k/img3.bmp   \n35    jpeg_2000      4           refimgs/dancers.bmp          jp2k/img4.bmp   \n52    jpeg_2000      5  refimgs/churchandcapitol.bmp          jp2k/img5.bmp   \n..          ...    ...                           ...                    ...   \n42  fast_fading    170        refimgs/manfishing.bmp  fastfading/img170.bmp   \n39  fast_fading    171          refimgs/sailing3.bmp  fastfading/img171.bmp   \n27  fast_fading    172  refimgs/churchandcapitol.bmp  fastfading/img172.bmp   \n28  fast_fading    173           refimgs/monarch.bmp  fastfading/img173.bmp   \n4   fast_fading    174          refimgs/sailing4.bmp  fastfading/img174.bmp   \n\n         dmos  \n18   0.000000  \n0   28.003845  \n17  34.010736  \n35  65.131410  \n52  68.911340  \n..        ...  \n42   0.000000  \n39   0.000000  \n27   0.000000  \n28   0.000000  \n4    0.000000  \n\n[982 rows x 5 columns]",
      "text/html": "<div>\n<style scoped>\n    .dataframe tbody tr th:only-of-type {\n        vertical-align: middle;\n    }\n\n    .dataframe tbody tr th {\n        vertical-align: top;\n    }\n\n    .dataframe thead th {\n        text-align: right;\n    }\n</style>\n<table border=\"1\" class=\"dataframe\">\n  <thead>\n    <tr style=\"text-align: right;\">\n      <th></th>\n      <th>distortion</th>\n      <th>index</th>\n      <th>reference_path</th>\n      <th>distorted_path</th>\n      <th>dmos</th>\n    </tr>\n  </thead>\n  <tbody>\n    <tr>\n      <th>18</th>\n      <td>jpeg_2000</td>\n      <td>1</td>\n      <td>refimgs/buildings.bmp</td>\n      <td>jp2k/img1.bmp</td>\n      <td>0.000000</td>\n    </tr>\n    <tr>\n      <th>0</th>\n      <td>jpeg_2000</td>\n      <td>2</td>\n      <td>refimgs/studentsculpture.bmp</td>\n      <td>jp2k/img2.bmp</td>\n      <td>28.003845</td>\n    </tr>\n    <tr>\n      <th>17</th>\n      <td>jpeg_2000</td>\n      <td>3</td>\n      <td>refimgs/rapids.bmp</td>\n      <td>jp2k/img3.bmp</td>\n      <td>34.010736</td>\n    </tr>\n    <tr>\n      <th>35</th>\n      <td>jpeg_2000</td>\n      <td>4</td>\n      <td>refimgs/dancers.bmp</td>\n      <td>jp2k/img4.bmp</td>\n      <td>65.131410</td>\n    </tr>\n    <tr>\n      <th>52</th>\n      <td>jpeg_2000</td>\n      <td>5</td>\n      <td>refimgs/churchandcapitol.bmp</td>\n      <td>jp2k/img5.bmp</td>\n      <td>68.911340</td>\n    </tr>\n    <tr>\n      <th>70</th>\n      <td>jpeg_2000</td>\n      <td>6</td>\n      <td>refimgs/dancers.bmp</td>\n      <td>jp2k/img6.bmp</td>\n      <td>65.150103</td>\n    </tr>\n    <tr>\n      <th>53</th>\n      <td>jpeg_2000</td>\n      <td>7</td>\n      <td>refimgs/churchandcapitol.bmp</td>\n      <td>jp2k/img7.bmp</td>\n      <td>54.397266</td>\n    </tr>\n    <tr>\n      <th>161</th>\n      <td>jpeg_2000</td>\n      <td>8</td>\n      <td>refimgs/stream.bmp</td>\n      <td>jp2k/img8.bmp</td>\n      <td>44.397145</td>\n    </tr>\n    <tr>\n      <th>184</th>\n      <td>jpeg_2000</td>\n      <td>9</td>\n      <td>refimgs/cemetry.bmp</td>\n      <td>jp2k/img9.bmp</td>\n      <td>0.000000</td>\n    </tr>\n    <tr>\n      <th>71</th>\n      <td>jpeg_2000</td>\n      <td>10</td>\n      <td>refimgs/woman.bmp</td>\n      <td>jp2k/img10.bmp</td>\n      <td>47.430014</td>\n    </tr>\n    <tr>\n      <th>78</th>\n      <td>jpeg_2000</td>\n      <td>11</td>\n      <td>refimgs/lighthouse2.bmp</td>\n      <td>jp2k/img11.bmp</td>\n      <td>0.000000</td>\n    </tr>\n    <tr>\n      <th>86</th>\n      <td>jpeg_2000</td>\n      <td>12</td>\n      <td>refimgs/sailing3.bmp</td>\n      <td>jp2k/img12.bmp</td>\n      <td>41.412498</td>\n    </tr>\n    <tr>\n      <th>79</th>\n      <td>jpeg_2000</td>\n      <td>13</td>\n      <td>refimgs/buildings.bmp</td>\n      <td>jp2k/img13.bmp</td>\n      <td>49.581143</td>\n    </tr>\n    <tr>\n      <th>101</th>\n      <td>jpeg_2000</td>\n      <td>14</td>\n      <td>refimgs/paintedhouse.bmp</td>\n      <td>jp2k/img14.bmp</td>\n      <td>48.843247</td>\n    </tr>\n    <tr>\n      <th>96</th>\n      <td>jpeg_2000</td>\n      <td>15</td>\n      <td>refimgs/bikes.bmp</td>\n      <td>jp2k/img15.bmp</td>\n      <td>26.137914</td>\n    </tr>\n    <tr>\n      <th>87</th>\n      <td>jpeg_2000</td>\n      <td>16</td>\n      <td>refimgs/ocean.bmp</td>\n      <td>jp2k/img16.bmp</td>\n      <td>0.000000</td>\n    </tr>\n    <tr>\n      <th>94</th>\n      <td>jpeg_2000</td>\n      <td>17</td>\n      <td>refimgs/stream.bmp</td>\n      <td>jp2k/img17.bmp</td>\n      <td>62.478704</td>\n    </tr>\n    <tr>\n      <th>110</th>\n      <td>jpeg_2000</td>\n      <td>18</td>\n      <td>refimgs/carnivaldolls.bmp</td>\n      <td>jp2k/img18.bmp</td>\n      <td>37.598876</td>\n    </tr>\n    <tr>\n      <th>105</th>\n      <td>jpeg_2000</td>\n      <td>19</td>\n      <td>refimgs/sailing1.bmp</td>\n      <td>jp2k/img19.bmp</td>\n      <td>19.966622</td>\n    </tr>\n    <tr>\n      <th>133</th>\n      <td>jpeg_2000</td>\n      <td>20</td>\n      <td>refimgs/house.bmp</td>\n      <td>jp2k/img20.bmp</td>\n      <td>0.000000</td>\n    </tr>\n    <tr>\n      <th>140</th>\n      <td>jpeg_2000</td>\n      <td>21</td>\n      <td>refimgs/coinsinfountain.bmp</td>\n      <td>jp2k/img21.bmp</td>\n      <td>32.694699</td>\n    </tr>\n    <tr>\n      <th>131</th>\n      <td>jpeg_2000</td>\n      <td>22</td>\n      <td>refimgs/monarch.bmp</td>\n      <td>jp2k/img22.bmp</td>\n      <td>0.000000</td>\n    </tr>\n    <tr>\n      <th>124</th>\n      <td>jpeg_2000</td>\n      <td>23</td>\n      <td>refimgs/woman.bmp</td>\n      <td>jp2k/img23.bmp</td>\n      <td>41.922347</td>\n    </tr>\n    <tr>\n      <th>112</th>\n      <td>jpeg_2000</td>\n      <td>24</td>\n      <td>refimgs/building2.bmp</td>\n      <td>jp2k/img24.bmp</td>\n      <td>0.000000</td>\n    </tr>\n    <tr>\n      <th>103</th>\n      <td>jpeg_2000</td>\n      <td>25</td>\n      <td>refimgs/caps.bmp</td>\n      <td>jp2k/img25.bmp</td>\n      <td>0.000000</td>\n    </tr>\n    <tr>\n      <th>114</th>\n      <td>jpeg_2000</td>\n      <td>26</td>\n      <td>refimgs/manfishing.bmp</td>\n      <td>jp2k/img26.bmp</td>\n      <td>25.341010</td>\n    </tr>\n    <tr>\n      <th>121</th>\n      <td>jpeg_2000</td>\n      <td>27</td>\n      <td>refimgs/house.bmp</td>\n      <td>jp2k/img27.bmp</td>\n      <td>50.839570</td>\n    </tr>\n    <tr>\n      <th>102</th>\n      <td>jpeg_2000</td>\n      <td>28</td>\n      <td>refimgs/coinsinfountain.bmp</td>\n      <td>jp2k/img28.bmp</td>\n      <td>66.461946</td>\n    </tr>\n    <tr>\n      <th>95</th>\n      <td>jpeg_2000</td>\n      <td>29</td>\n      <td>refimgs/buildings.bmp</td>\n      <td>jp2k/img29.bmp</td>\n      <td>61.413717</td>\n    </tr>\n    <tr>\n      <th>111</th>\n      <td>jpeg_2000</td>\n      <td>30</td>\n      <td>refimgs/building2.bmp</td>\n      <td>jp2k/img30.bmp</td>\n      <td>69.298516</td>\n    </tr>\n    <tr>\n      <th>...</th>\n      <td>...</td>\n      <td>...</td>\n      <td>...</td>\n      <td>...</td>\n      <td>...</td>\n    </tr>\n    <tr>\n      <th>168</th>\n      <td>fast_fading</td>\n      <td>145</td>\n      <td>refimgs/sailing4.bmp</td>\n      <td>fastfading/img145.bmp</td>\n      <td>36.066605</td>\n    </tr>\n    <tr>\n      <th>156</th>\n      <td>fast_fading</td>\n      <td>146</td>\n      <td>refimgs/coinsinfountain.bmp</td>\n      <td>fastfading/img146.bmp</td>\n      <td>0.000000</td>\n    </tr>\n    <tr>\n      <th>153</th>\n      <td>fast_fading</td>\n      <td>147</td>\n      <td>refimgs/ocean.bmp</td>\n      <td>fastfading/img147.bmp</td>\n      <td>0.000000</td>\n    </tr>\n    <tr>\n      <th>6</th>\n      <td>fast_fading</td>\n      <td>148</td>\n      <td>refimgs/statue.bmp</td>\n      <td>fastfading/img148.bmp</td>\n      <td>0.000000</td>\n    </tr>\n    <tr>\n      <th>7</th>\n      <td>fast_fading</td>\n      <td>149</td>\n      <td>refimgs/dancers.bmp</td>\n      <td>fastfading/img149.bmp</td>\n      <td>0.000000</td>\n    </tr>\n    <tr>\n      <th>166</th>\n      <td>fast_fading</td>\n      <td>150</td>\n      <td>refimgs/paintedhouse.bmp</td>\n      <td>fastfading/img150.bmp</td>\n      <td>0.000000</td>\n    </tr>\n    <tr>\n      <th>169</th>\n      <td>fast_fading</td>\n      <td>151</td>\n      <td>refimgs/stream.bmp</td>\n      <td>fastfading/img151.bmp</td>\n      <td>0.000000</td>\n    </tr>\n    <tr>\n      <th>155</th>\n      <td>fast_fading</td>\n      <td>152</td>\n      <td>refimgs/bikes.bmp</td>\n      <td>fastfading/img152.bmp</td>\n      <td>0.000000</td>\n    </tr>\n    <tr>\n      <th>154</th>\n      <td>fast_fading</td>\n      <td>153</td>\n      <td>refimgs/flowersonih35.bmp</td>\n      <td>fastfading/img153.bmp</td>\n      <td>0.000000</td>\n    </tr>\n    <tr>\n      <th>127</th>\n      <td>fast_fading</td>\n      <td>154</td>\n      <td>refimgs/parrots.bmp</td>\n      <td>fastfading/img154.bmp</td>\n      <td>0.000000</td>\n    </tr>\n    <tr>\n      <th>122</th>\n      <td>fast_fading</td>\n      <td>155</td>\n      <td>refimgs/studentsculpture.bmp</td>\n      <td>fastfading/img155.bmp</td>\n      <td>0.000000</td>\n    </tr>\n    <tr>\n      <th>139</th>\n      <td>fast_fading</td>\n      <td>156</td>\n      <td>refimgs/building2.bmp</td>\n      <td>fastfading/img156.bmp</td>\n      <td>0.000000</td>\n    </tr>\n    <tr>\n      <th>140</th>\n      <td>fast_fading</td>\n      <td>157</td>\n      <td>refimgs/plane.bmp</td>\n      <td>fastfading/img157.bmp</td>\n      <td>0.000000</td>\n    </tr>\n    <tr>\n      <th>43</th>\n      <td>fast_fading</td>\n      <td>158</td>\n      <td>refimgs/woman.bmp</td>\n      <td>fastfading/img158.bmp</td>\n      <td>0.000000</td>\n    </tr>\n    <tr>\n      <th>38</th>\n      <td>fast_fading</td>\n      <td>159</td>\n      <td>refimgs/buildings.bmp</td>\n      <td>fastfading/img159.bmp</td>\n      <td>0.000000</td>\n    </tr>\n    <tr>\n      <th>5</th>\n      <td>fast_fading</td>\n      <td>160</td>\n      <td>refimgs/house.bmp</td>\n      <td>fastfading/img160.bmp</td>\n      <td>0.000000</td>\n    </tr>\n    <tr>\n      <th>8</th>\n      <td>fast_fading</td>\n      <td>161</td>\n      <td>refimgs/rapids.bmp</td>\n      <td>fastfading/img161.bmp</td>\n      <td>0.000000</td>\n    </tr>\n    <tr>\n      <th>18</th>\n      <td>fast_fading</td>\n      <td>162</td>\n      <td>refimgs/womanhat.bmp</td>\n      <td>fastfading/img162.bmp</td>\n      <td>0.000000</td>\n    </tr>\n    <tr>\n      <th>17</th>\n      <td>fast_fading</td>\n      <td>163</td>\n      <td>refimgs/caps.bmp</td>\n      <td>fastfading/img163.bmp</td>\n      <td>0.000000</td>\n    </tr>\n    <tr>\n      <th>41</th>\n      <td>fast_fading</td>\n      <td>164</td>\n      <td>refimgs/lighthouse.bmp</td>\n      <td>fastfading/img164.bmp</td>\n      <td>0.000000</td>\n    </tr>\n    <tr>\n      <th>40</th>\n      <td>fast_fading</td>\n      <td>165</td>\n      <td>refimgs/sailing1.bmp</td>\n      <td>fastfading/img165.bmp</td>\n      <td>0.000000</td>\n    </tr>\n    <tr>\n      <th>26</th>\n      <td>fast_fading</td>\n      <td>166</td>\n      <td>refimgs/carnivaldolls.bmp</td>\n      <td>fastfading/img166.bmp</td>\n      <td>0.000000</td>\n    </tr>\n    <tr>\n      <th>29</th>\n      <td>fast_fading</td>\n      <td>167</td>\n      <td>refimgs/lighthouse2.bmp</td>\n      <td>fastfading/img167.bmp</td>\n      <td>0.000000</td>\n    </tr>\n    <tr>\n      <th>125</th>\n      <td>fast_fading</td>\n      <td>168</td>\n      <td>refimgs/sailing2.bmp</td>\n      <td>fastfading/img168.bmp</td>\n      <td>0.000000</td>\n    </tr>\n    <tr>\n      <th>124</th>\n      <td>fast_fading</td>\n      <td>169</td>\n      <td>refimgs/cemetry.bmp</td>\n      <td>fastfading/img169.bmp</td>\n      <td>0.000000</td>\n    </tr>\n    <tr>\n      <th>42</th>\n      <td>fast_fading</td>\n      <td>170</td>\n      <td>refimgs/manfishing.bmp</td>\n      <td>fastfading/img170.bmp</td>\n      <td>0.000000</td>\n    </tr>\n    <tr>\n      <th>39</th>\n      <td>fast_fading</td>\n      <td>171</td>\n      <td>refimgs/sailing3.bmp</td>\n      <td>fastfading/img171.bmp</td>\n      <td>0.000000</td>\n    </tr>\n    <tr>\n      <th>27</th>\n      <td>fast_fading</td>\n      <td>172</td>\n      <td>refimgs/churchandcapitol.bmp</td>\n      <td>fastfading/img172.bmp</td>\n      <td>0.000000</td>\n    </tr>\n    <tr>\n      <th>28</th>\n      <td>fast_fading</td>\n      <td>173</td>\n      <td>refimgs/monarch.bmp</td>\n      <td>fastfading/img173.bmp</td>\n      <td>0.000000</td>\n    </tr>\n    <tr>\n      <th>4</th>\n      <td>fast_fading</td>\n      <td>174</td>\n      <td>refimgs/sailing4.bmp</td>\n      <td>fastfading/img174.bmp</td>\n      <td>0.000000</td>\n    </tr>\n  </tbody>\n</table>\n<p>982 rows × 5 columns</p>\n</div>"
     },
     "metadata": {},
     "output_type": "execute_result",
     "execution_count": 348
    }
   ],
   "source": [
    "dataframe"
   ],
   "metadata": {
    "collapsed": false,
    "pycharm": {
     "name": "#%%\n",
     "is_executing": false
    }
   }
  }
 ],
 "metadata": {
  "kernelspec": {
   "name": "python3",
   "language": "python",
   "display_name": "Python 3"
  },
  "language_info": {
   "codemirror_mode": {
    "name": "ipython",
    "version": 3
   },
   "file_extension": ".py",
   "mimetype": "text/x-python",
   "name": "python",
   "nbconvert_exporter": "python",
   "pygments_lexer": "ipython3",
   "version": "3.7.3"
  },
  "pycharm": {
   "stem_cell": {
    "cell_type": "raw",
    "source": [],
    "metadata": {
     "collapsed": false
    }
   }
  }
 },
 "nbformat": 4,
 "nbformat_minor": 2
}